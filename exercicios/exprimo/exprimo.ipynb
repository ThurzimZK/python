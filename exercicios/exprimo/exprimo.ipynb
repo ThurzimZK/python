{
 "cells": [
  {
   "cell_type": "code",
   "execution_count": 1,
   "metadata": {},
   "outputs": [
    {
     "ename": "ValueError",
     "evalue": "could not convert string to float: ''",
     "output_type": "error",
     "traceback": [
      "\u001b[1;31m---------------------------------------------------------------------------\u001b[0m",
      "\u001b[1;31mValueError\u001b[0m                                Traceback (most recent call last)",
      "\u001b[1;32mc:\\Users\\536548\\Documents\\Estudos\\python\\exercicios\\exprimo\\exprimo.ipynb Célula: 1\u001b[0m in \u001b[0;36m<cell line: 1>\u001b[1;34m()\u001b[0m\n\u001b[1;32m----> <a href='vscode-notebook-cell:/c%3A/Users/536548/Documents/Estudos/python/exercicios/exprimo/exprimo.ipynb#W0sZmlsZQ%3D%3D?line=0'>1</a>\u001b[0m num \u001b[39m=\u001b[39m \u001b[39mfloat\u001b[39;49m(\u001b[39minput\u001b[39;49m(\u001b[39m\"\u001b[39;49m\u001b[39mDigite um número: \u001b[39;49m\u001b[39m\"\u001b[39;49m))\n\u001b[0;32m      <a href='vscode-notebook-cell:/c%3A/Users/536548/Documents/Estudos/python/exercicios/exprimo/exprimo.ipynb#W0sZmlsZQ%3D%3D?line=1'>2</a>\u001b[0m primos \u001b[39m=\u001b[39m []\n\u001b[0;32m      <a href='vscode-notebook-cell:/c%3A/Users/536548/Documents/Estudos/python/exercicios/exprimo/exprimo.ipynb#W0sZmlsZQ%3D%3D?line=3'>4</a>\u001b[0m \u001b[39mfor\u001b[39;00m x \u001b[39min\u001b[39;00m \u001b[39mrange\u001b[39m(\u001b[39m1\u001b[39m, \u001b[39mfloat\u001b[39m \u001b[39m+\u001b[39m \u001b[39m1\u001b[39m):\n",
      "\u001b[1;31mValueError\u001b[0m: could not convert string to float: ''"
     ]
    }
   ],
   "source": [
    "num = int(input(\"Digite um número: \"))\n",
    "primos = []\n",
    "\n",
    "for x in range(1, num + 1):\n",
    "    if num % x == 0:\n",
    "        primos.append(x)\n",
    "    else:\n",
    "        pass\n",
    "\n",
    "if len(primos) == 2:\n",
    "    print(f\"O número {num} é primo \")\n",
    "else:\n",
    "    print(f\"O número {num} não é primo \")"
   ]
  }
 ],
 "metadata": {
  "kernelspec": {
   "display_name": "Python 3.9.12 ('base')",
   "language": "python",
   "name": "python3"
  },
  "language_info": {
   "codemirror_mode": {
    "name": "ipython",
    "version": 3
   },
   "file_extension": ".py",
   "mimetype": "text/x-python",
   "name": "python",
   "nbconvert_exporter": "python",
   "pygments_lexer": "ipython3",
   "version": "3.9.12"
  },
  "orig_nbformat": 4,
  "vscode": {
   "interpreter": {
    "hash": "5ccd02c9b721e7501e31f11e62f69ce538bd3af001419aee0659c760d00dc6fc"
   }
  }
 },
 "nbformat": 4,
 "nbformat_minor": 2
}
