{
 "cells": [
  {
   "cell_type": "code",
   "execution_count": 3,
   "id": "8849d2e4",
   "metadata": {},
   "outputs": [
    {
     "name": "stdout",
     "output_type": "stream",
     "text": [
      "Olá, Mundo!\n",
      "Esse não é o primeiro exercício, mas é o primeiro arquivo em python para estudos.\n",
      "5\n"
     ]
    }
   ],
   "source": [
    "print(\"Olá, Mundo!\")\n",
    "print(\"Esse não é o primeiro exercício, mas é o primeiro arquivo em python para estudos.\")\n",
    "a = 2\n",
    "b = 3\n",
    "soma = a + b\n",
    "print(soma)"
   ]
  },
  {
   "cell_type": "code",
   "execution_count": null,
   "id": "1ffcb2bd",
   "metadata": {},
   "outputs": [],
   "source": []
  }
 ],
 "metadata": {
  "kernelspec": {
   "display_name": "Python 3.9.12 ('base')",
   "language": "python",
   "name": "python3"
  },
  "language_info": {
   "codemirror_mode": {
    "name": "ipython",
    "version": 3
   },
   "file_extension": ".py",
   "mimetype": "text/x-python",
   "name": "python",
   "nbconvert_exporter": "python",
   "pygments_lexer": "ipython3",
   "version": "3.9.12"
  },
  "vscode": {
   "interpreter": {
    "hash": "5ccd02c9b721e7501e31f11e62f69ce538bd3af001419aee0659c760d00dc6fc"
   }
  }
 },
 "nbformat": 4,
 "nbformat_minor": 5
}
