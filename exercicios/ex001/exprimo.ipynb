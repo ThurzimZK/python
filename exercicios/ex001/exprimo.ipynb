{
 "cells": [
  {
   "cell_type": "code",
   "execution_count": 23,
   "metadata": {},
   "outputs": [
    {
     "name": "stdout",
     "output_type": "stream",
     "text": [
      "Digite um número: 11\n",
      "O número 11 é primo \n"
     ]
    }
   ],
   "source": [
    "num = int(input(\"Digite um número: \"))\n",
    "primos = []\n",
    "\n",
    "for a in range(1, num + 1):\n",
    "    if num % a == 0:\n",
    "        primos.append(a)\n",
    "    else:\n",
    "        pass\n",
    "\n",
    "if len(primos) == 2:\n",
    "    print(f\"O número {num} é primo \")\n",
    "else:\n",
    "    print(f\"O número {num} não é primo \")\n",
    "    "
   ]
  }
 ],
 "metadata": {
  "kernelspec": {
   "display_name": "Python 3 (ipykernel)",
   "language": "python",
   "name": "python3"
  },
  "language_info": {
   "codemirror_mode": {
    "name": "ipython",
    "version": 3
   },
   "file_extension": ".py",
   "mimetype": "text/x-python",
   "name": "python",
   "nbconvert_exporter": "python",
   "pygments_lexer": "ipython3",
   "version": "3.9.12"
  },
  "vscode": {
   "interpreter": {
    "hash": "5ccd02c9b721e7501e31f11e62f69ce538bd3af001419aee0659c760d00dc6fc"
   }
  }
 },
 "nbformat": 4,
 "nbformat_minor": 2
}
